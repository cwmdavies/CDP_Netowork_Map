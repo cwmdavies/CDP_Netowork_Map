{
 "cells": [
  {
   "cell_type": "code",
   "execution_count": 2,
   "metadata": {
    "collapsed": true,
    "ExecuteTime": {
     "end_time": "2023-05-16T07:35:11.616355300Z",
     "start_time": "2023-05-16T07:35:11.589890100Z"
    }
   },
   "outputs": [],
   "source": [
    "import configparser\n",
    "import os"
   ]
  },
  {
   "cell_type": "code",
   "execution_count": 8,
   "outputs": [],
   "source": [
    "parser = configparser.ConfigParser()\n",
    "\n",
    "try:\n",
    "    if os.path.isfile(\"config.ini\") == True:\n",
    "        parser.read(\"config.ini\")\n",
    "    else:\n",
    "        raise FileNotFoundError\n",
    "except FileNotFoundError:\n",
    "    print(\"Error: Configuration file not found. Please check and try again\")"
   ],
   "metadata": {
    "collapsed": false,
    "ExecuteTime": {
     "end_time": "2023-05-16T07:35:51.928002Z",
     "start_time": "2023-05-16T07:35:51.871154300Z"
    }
   }
  },
  {
   "cell_type": "code",
   "execution_count": 4,
   "outputs": [
    {
     "data": {
      "text/plain": "['Settings', 'Jump_Servers']"
     },
     "execution_count": 4,
     "metadata": {},
     "output_type": "execute_result"
    }
   ],
   "source": [
    "parser.sections()"
   ],
   "metadata": {
    "collapsed": false,
    "ExecuteTime": {
     "end_time": "2023-05-16T07:35:20.394638100Z",
     "start_time": "2023-05-16T07:35:20.342411500Z"
    }
   }
  },
  {
   "cell_type": "code",
   "execution_count": 9,
   "outputs": [],
   "source": [
    "Settings = parser[\"Settings\"]\n",
    "Jump_Servers = parser[\"Jump_Servers\"]"
   ],
   "metadata": {
    "collapsed": false,
    "ExecuteTime": {
     "end_time": "2023-05-16T07:36:17.463719Z",
     "start_time": "2023-05-16T07:36:17.437968300Z"
    }
   }
  },
  {
   "cell_type": "code",
   "execution_count": 13,
   "outputs": [],
   "source": [
    "Version = Settings[\"Version\"]\n",
    "Jumper_server_1 = Jump_Servers[\"Jump_1\"]"
   ],
   "metadata": {
    "collapsed": false,
    "ExecuteTime": {
     "end_time": "2023-05-16T07:37:06.223555500Z",
     "start_time": "2023-05-16T07:37:06.186847800Z"
    }
   }
  },
  {
   "cell_type": "code",
   "execution_count": 18,
   "outputs": [
    {
     "name": "stdout",
     "output_type": "stream",
     "text": [
      "Version: 2.1\n",
      "Jumper Server IP Address: 192.168.1.1\n"
     ]
    }
   ],
   "source": [
    "print(f\"Version: {Version}\")\n",
    "print(f\"Jumper Server IP Address: {Jumper_server_1}\")\n"
   ],
   "metadata": {
    "collapsed": false,
    "ExecuteTime": {
     "end_time": "2023-05-16T07:38:03.865108Z",
     "start_time": "2023-05-16T07:38:03.849125300Z"
    }
   }
  }
 ],
 "metadata": {
  "kernelspec": {
   "display_name": "Python 3",
   "language": "python",
   "name": "python3"
  },
  "language_info": {
   "codemirror_mode": {
    "name": "ipython",
    "version": 2
   },
   "file_extension": ".py",
   "mimetype": "text/x-python",
   "name": "python",
   "nbconvert_exporter": "python",
   "pygments_lexer": "ipython2",
   "version": "2.7.6"
  }
 },
 "nbformat": 4,
 "nbformat_minor": 0
}
